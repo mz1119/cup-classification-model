{
  "nbformat": 4,
  "nbformat_minor": 0,
  "metadata": {
    "colab": {
      "name": "Ellipse VIA JSON to Mask.ipynb",
      "provenance": [],
      "collapsed_sections": [],
      "include_colab_link": true
    },
    "kernelspec": {
      "name": "python3",
      "display_name": "Python 3"
    },
    "language_info": {
      "name": "python"
    },
    "accelerator": "GPU"
  },
  "cells": [
    {
      "cell_type": "markdown",
      "metadata": {
        "id": "view-in-github",
        "colab_type": "text"
      },
      "source": [
        "<a href=\"https://colab.research.google.com/github/mz1119/cup-classification-model/blob/main/Ellipse_VIA_JSON_to_Mask.ipynb\" target=\"_parent\"><img src=\"https://colab.research.google.com/assets/colab-badge.svg\" alt=\"Open In Colab\"/></a>"
      ]
    },
    {
      "cell_type": "code",
      "metadata": {
        "colab": {
          "base_uri": "https://localhost:8080/"
        },
        "id": "STysnN5dkLyc",
        "outputId": "eecc40ba-e89f-498e-9961-46da5ac2ed03"
      },
      "source": [
        "from google.colab import drive\n",
        "drive.mount('/content/drive')"
      ],
      "execution_count": null,
      "outputs": [
        {
          "output_type": "stream",
          "text": [
            "Mounted at /content/drive\n"
          ],
          "name": "stdout"
        }
      ]
    },
    {
      "cell_type": "code",
      "metadata": {
        "id": "It0pqDsQkVdJ"
      },
      "source": [
        "import pandas as pd\n",
        "import numpy as np\n",
        "import json\n",
        "from PIL import Image, ImageDraw\n",
        "import math"
      ],
      "execution_count": null,
      "outputs": []
    },
    {
      "cell_type": "code",
      "metadata": {
        "colab": {
          "base_uri": "https://localhost:8080/"
        },
        "id": "cqrn9DpvkXMH",
        "outputId": "0ce724af-dc5a-436c-b3d3-7736780c3743"
      },
      "source": [
        "data_frame = pd.read_json('/content/drive/My Drive/Blue Hill Cup Images/via_project_23Jun2021_14h34m_json.json')\n",
        "data_frame = data_frame.transpose().reset_index()[['filename','regions']]\n",
        "\n",
        "data_frame['regions'][0][0]['shape_attributes']"
      ],
      "execution_count": null,
      "outputs": [
        {
          "output_type": "execute_result",
          "data": {
            "text/plain": [
              "{'cx': 810,\n",
              " 'cy': 696,\n",
              " 'name': 'ellipse',\n",
              " 'rx': 107,\n",
              " 'ry': 62.213,\n",
              " 'theta': 0.23500000000000001}"
            ]
          },
          "metadata": {
            "tags": []
          },
          "execution_count": 5
        }
      ]
    },
    {
      "cell_type": "code",
      "metadata": {
        "id": "xKampP3ikgur"
      },
      "source": [
        "#limit size of data_frame\n",
        "data_frame = data_frame[0:1]"
      ],
      "execution_count": null,
      "outputs": []
    },
    {
      "cell_type": "code",
      "metadata": {
        "id": "gTPtC9ugkuQC"
      },
      "source": [
        "#Outline Masks\n",
        "for row in range(data_frame.shape[0]):\n",
        "    #get name\n",
        "    file_name = data_frame['filename'][row]\n",
        "\n",
        "    #open image\n",
        "    im = Image.open(\"/content/drive/My Drive/Blue Hill Cup Images/Cup_Image_Dataset/\" + file_name).convert(\"L\")\n",
        "    imgdraw = ImageDraw.Draw(im) \n",
        "    #get size\n",
        "    width, height = im.size\n",
        "    \n",
        "    \n",
        "    #make whole screen black\n",
        "    imgdraw.rectangle([0,0,width,height], fill = 0, outline = 0) \n",
        "\n",
        "\n",
        "    cx = round(data_frame['regions'][row][0]['shape_attributes']['cx'])\n",
        "    cy = round(data_frame['regions'][row][0]['shape_attributes']['cy'])\n",
        "    rx = round(data_frame['regions'][row][0]['shape_attributes']['rx'])\n",
        "    ry = round(data_frame['regions'][row][0]['shape_attributes']['ry'])\n",
        "    theta = data_frame['regions'][row][0]['shape_attributes']['theta'] # in radians, will need to be converted to degrees later\n",
        "    \n",
        "    ellipse_bbox = [(0,0),(2*rx,2*ry)]\n",
        "\n",
        "    ellipse_image = Image.new('L', (2*rx, 2*ry) , color = 0)\n",
        "\n",
        "    ellipse_draw = ImageDraw.Draw(ellipse_image)\n",
        "    ellipse_draw.ellipse(ellipse_bbox, fill = 1, outline = 1, width = 3)\n",
        "\n",
        "    ellipse_image = ellipse_image.rotate(-math.degrees(theta), expand = 1)\n",
        "\n",
        "    ellipse_width, ellipse_height = ellipse_image.size\n",
        "\n",
        "    x_diff = int((ellipse_width - 2*rx)/2)\n",
        "    y_diff = int((ellipse_height - 2*ry)/2)\n",
        "\n",
        "    im.paste(ellipse_image, (cx-rx-x_diff,cy-ry-y_diff))\n",
        "    \n",
        "    im.save(\"/content/drive/My Drive/Blue Hill Cup Images/Cup_Image_Masks_Dataset/ellipse_mask_\" + file_name[:-4] + \"PNG\", quality = 95)"
      ],
      "execution_count": null,
      "outputs": []
    },
    {
      "cell_type": "code",
      "metadata": {
        "colab": {
          "base_uri": "https://localhost:8080/",
          "height": 981
        },
        "id": "DAuuEp_RLyzu",
        "outputId": "b60ea8ff-4526-4eb2-c132-8f8f036dd7d6"
      },
      "source": [
        "im.putpalette([\n",
        "    0, 0, 0, # black background\n",
        "    255, 0, 0, # index 1 is red\n",
        "    0, 255, 0, # index 2 is green\n",
        "])\n",
        "\n",
        "im"
      ],
      "execution_count": null,
      "outputs": [
        {
          "output_type": "execute_result",
          "data": {
            "image/png": "[encoded data removed]",
            "text/plain": [
              "<PIL.Image.Image image mode=P size=1280x964 at 0x7FE4C24F0650>"
            ]
          },
          "metadata": {
            "tags": []
          },
          "execution_count": 75
        }
      ]
    },
    {
      "cell_type": "code",
      "metadata": {
        "id": "2t3NnxM6QFBM"
      },
      "source": [
        ""
      ],
      "execution_count": null,
      "outputs": []
    }
  ]
}